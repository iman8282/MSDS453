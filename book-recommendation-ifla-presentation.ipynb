{
 "cells": [
  {
   "cell_type": "code",
   "execution_count": 1,
   "id": "411abc43",
   "metadata": {
    "_cell_guid": "b1076dfc-b9ad-4769-8c92-a6c4dae69d19",
    "_uuid": "8f2839f25d086af736a60e9eeb907d3b93b6e0e5",
    "execution": {
     "iopub.execute_input": "2023-02-26T09:21:12.028903Z",
     "iopub.status.busy": "2023-02-26T09:21:12.028234Z",
     "iopub.status.idle": "2023-02-26T09:21:12.077495Z",
     "shell.execute_reply": "2023-02-26T09:21:12.076241Z"
    },
    "papermill": {
     "duration": 0.062353,
     "end_time": "2023-02-26T09:21:12.082080",
     "exception": false,
     "start_time": "2023-02-26T09:21:12.019727",
     "status": "completed"
    },
    "tags": []
   },
   "outputs": [
    {
     "name": "stdout",
     "output_type": "stream",
     "text": [
      "/kaggle/input/goodreadsbooks/books.csv\n",
      "/kaggle/input/goodbooks-10k/book_tags.csv\n",
      "/kaggle/input/goodbooks-10k/ratings.csv\n",
      "/kaggle/input/goodbooks-10k/books.csv\n",
      "/kaggle/input/goodbooks-10k/sample_book.xml\n",
      "/kaggle/input/goodbooks-10k/to_read.csv\n",
      "/kaggle/input/goodbooks-10k/tags.csv\n",
      "/kaggle/input/book-datasets/Final Report.ipynb\n",
      "/kaggle/input/book-datasets/.gitignore\n",
      "/kaggle/input/book-datasets/README.md\n",
      "/kaggle/input/book-datasets/books10k.csv\n",
      "/kaggle/input/book-datasets/ratings10k.csv\n",
      "/kaggle/input/book-datasets/Final Presentation.key\n",
      "/kaggle/input/book-datasets/Code/EDA - full Goodreads authors, works, series, genres, interactions.ipynb\n",
      "/kaggle/input/book-datasets/Code/Collab filtering using Surprise (algo list, cv, plot, user-based recommendations).ipynb\n",
      "/kaggle/input/book-datasets/Code/Collab filtering using pearsonR (item-based recommendations).ipynb\n",
      "/kaggle/input/book-datasets/Code/Data prep - full Goodreads loading files, statistics, distributions.ipynb\n",
      "/kaggle/input/book-datasets/Code/Text analysis - build, clean, prep review text.ipynb\n",
      "/kaggle/input/book-datasets/Code/Content filtering by vectorizing on full text (tfidf and count) with word cloud.ipynb\n",
      "/kaggle/input/book-datasets/Code/Collab filtering using PySpark (user-based recommendations).ipynb\n",
      "/kaggle/input/book-datasets/Images/PearsonR code.png\n",
      "/kaggle/input/book-datasets/Images/Algo results.png\n",
      "/kaggle/input/book-datasets/Images/count recs.png\n",
      "/kaggle/input/book-datasets/Images/Goodreads interactions counts.png\n",
      "/kaggle/input/book-datasets/Images/Tuned ALS model with best rmse.png\n",
      "/kaggle/input/book-datasets/Images/Pie chart of genres.png\n",
      "/kaggle/input/book-datasets/Images/Log-log plots of interactions.png\n",
      "/kaggle/input/book-datasets/Images/Full Goodreads counts.png\n",
      "/kaggle/input/book-datasets/Images/PySpark sparcity.png\n",
      "/kaggle/input/book-datasets/Images/Cross validation plot.png\n",
      "/kaggle/input/book-datasets/Images/Word cloud of review text.png\n",
      "/kaggle/input/book-datasets/Images/Author plots.png\n",
      "/kaggle/input/book-datasets/Images/ALS model with rmse.png\n",
      "/kaggle/input/book-datasets/Images/tfidf recs.png\n",
      "/kaggle/input/book-datasets/Images/Hist and scatterplot.png\n",
      "/kaggle/input/book-datasets/Images/Optimized algo params.png\n",
      "/kaggle/input/goodreads-booksjsongz/goodreads_books.json\n"
     ]
    }
   ],
   "source": [
    "# This Python 3 environment comes with many helpful analytics libraries installed\n",
    "# It is defined by the kaggle/python Docker image: https://github.com/kaggle/docker-python\n",
    "# For example, here's several helpful packages to load\n",
    "\n",
    "import numpy as np # linear algebra\n",
    "import pandas as pd # data processing, CSV file I/O (e.g. pd.read_csv)\n",
    "\n",
    "# Input data files are available in the read-only \"../input/\" directory\n",
    "# For example, running this (by clicking run or pressing Shift+Enter) will list all files under the input directory\n",
    "\n",
    "import os\n",
    "for dirname, _, filenames in os.walk('/kaggle/input'):\n",
    "    for filename in filenames:\n",
    "        print(os.path.join(dirname, filename))\n",
    "\n",
    "# You can write up to 20GB to the current directory (/kaggle/working/) that gets preserved as output when you create a version using \"Save & Run All\" \n",
    "# You can also write temporary files to /kaggle/temp/, but they won't be saved outside of the current session"
   ]
  },
  {
   "cell_type": "markdown",
   "id": "dc4ce93c",
   "metadata": {
    "papermill": {
     "duration": 0.005292,
     "end_time": "2023-02-26T09:21:12.094263",
     "exception": false,
     "start_time": "2023-02-26T09:21:12.088971",
     "status": "completed"
    },
    "tags": []
   },
   "source": [
    "##credit to https://github.com/Reinalynn/Building-a-Book-Recommendation-System-using-Python/blob/master/Final%20Report.ipynb"
   ]
  },
  {
   "cell_type": "markdown",
   "id": "5b99718e",
   "metadata": {
    "execution": {
     "iopub.execute_input": "2023-02-26T08:08:32.487187Z",
     "iopub.status.busy": "2023-02-26T08:08:32.486806Z",
     "iopub.status.idle": "2023-02-26T08:08:32.577803Z",
     "shell.execute_reply": "2023-02-26T08:08:32.575800Z",
     "shell.execute_reply.started": "2023-02-26T08:08:32.487154Z"
    },
    "papermill": {
     "duration": 0.004895,
     "end_time": "2023-02-26T09:21:12.104557",
     "exception": false,
     "start_time": "2023-02-26T09:21:12.099662",
     "status": "completed"
    },
    "tags": []
   },
   "source": [
    "import gzip\n",
    "def parse(path):\n",
    "    g = gzip.open(path, 'r')\n",
    "    for l in g:\n",
    "        yield eval(l)\n",
    "books = parse('Unused data/goodreads_books.json.gz')\n",
    "next(books)"
   ]
  },
  {
   "cell_type": "markdown",
   "id": "089ada05",
   "metadata": {
    "papermill": {
     "duration": 0.004885,
     "end_time": "2023-02-26T09:21:12.114656",
     "exception": false,
     "start_time": "2023-02-26T09:21:12.109771",
     "status": "completed"
    },
    "tags": []
   },
   "source": [
    "Ref: https://www.youtube.com/watch?v=xySjbVUgAwU"
   ]
  },
  {
   "cell_type": "code",
   "execution_count": 2,
   "id": "8360bb35",
   "metadata": {
    "execution": {
     "iopub.execute_input": "2023-02-26T09:21:12.127135Z",
     "iopub.status.busy": "2023-02-26T09:21:12.126145Z",
     "iopub.status.idle": "2023-02-26T09:21:12.261318Z",
     "shell.execute_reply": "2023-02-26T09:21:12.260118Z"
    },
    "papermill": {
     "duration": 0.144379,
     "end_time": "2023-02-26T09:21:12.264153",
     "exception": false,
     "start_time": "2023-02-26T09:21:12.119774",
     "status": "completed"
    },
    "tags": []
   },
   "outputs": [],
   "source": [
    "df = pd.read_csv(\"/kaggle/input/book-datasets/books10k.csv\")\n"
   ]
  },
  {
   "cell_type": "code",
   "execution_count": 3,
   "id": "ea2d9ee6",
   "metadata": {
    "execution": {
     "iopub.execute_input": "2023-02-26T09:21:12.276201Z",
     "iopub.status.busy": "2023-02-26T09:21:12.275794Z",
     "iopub.status.idle": "2023-02-26T09:21:12.307383Z",
     "shell.execute_reply": "2023-02-26T09:21:12.305183Z"
    },
    "papermill": {
     "duration": 0.040986,
     "end_time": "2023-02-26T09:21:12.310305",
     "exception": false,
     "start_time": "2023-02-26T09:21:12.269319",
     "status": "completed"
    },
    "tags": []
   },
   "outputs": [
    {
     "name": "stdout",
     "output_type": "stream",
     "text": [
      "<class 'pandas.core.frame.DataFrame'>\n",
      "RangeIndex: 10000 entries, 0 to 9999\n",
      "Data columns (total 23 columns):\n",
      " #   Column                     Non-Null Count  Dtype  \n",
      "---  ------                     --------------  -----  \n",
      " 0   book_id                    10000 non-null  int64  \n",
      " 1   goodreads_book_id          10000 non-null  int64  \n",
      " 2   best_book_id               10000 non-null  int64  \n",
      " 3   work_id                    10000 non-null  int64  \n",
      " 4   books_count                10000 non-null  int64  \n",
      " 5   isbn                       9300 non-null   object \n",
      " 6   isbn13                     9415 non-null   float64\n",
      " 7   authors                    10000 non-null  object \n",
      " 8   original_publication_year  9979 non-null   float64\n",
      " 9   original_title             9415 non-null   object \n",
      " 10  title                      10000 non-null  object \n",
      " 11  language_code              8916 non-null   object \n",
      " 12  average_rating             10000 non-null  float64\n",
      " 13  ratings_count              10000 non-null  int64  \n",
      " 14  work_ratings_count         10000 non-null  int64  \n",
      " 15  work_text_reviews_count    10000 non-null  int64  \n",
      " 16  ratings_1                  10000 non-null  int64  \n",
      " 17  ratings_2                  10000 non-null  int64  \n",
      " 18  ratings_3                  10000 non-null  int64  \n",
      " 19  ratings_4                  10000 non-null  int64  \n",
      " 20  ratings_5                  10000 non-null  int64  \n",
      " 21  image_url                  10000 non-null  object \n",
      " 22  small_image_url            10000 non-null  object \n",
      "dtypes: float64(3), int64(13), object(7)\n",
      "memory usage: 1.8+ MB\n"
     ]
    }
   ],
   "source": [
    "df.info()"
   ]
  },
  {
   "cell_type": "code",
   "execution_count": 4,
   "id": "a54e4d47",
   "metadata": {
    "execution": {
     "iopub.execute_input": "2023-02-26T09:21:12.323377Z",
     "iopub.status.busy": "2023-02-26T09:21:12.322638Z",
     "iopub.status.idle": "2023-02-26T09:21:12.363179Z",
     "shell.execute_reply": "2023-02-26T09:21:12.361723Z"
    },
    "papermill": {
     "duration": 0.050458,
     "end_time": "2023-02-26T09:21:12.366287",
     "exception": false,
     "start_time": "2023-02-26T09:21:12.315829",
     "status": "completed"
    },
    "tags": []
   },
   "outputs": [
    {
     "data": {
      "text/html": [
       "<div>\n",
       "<style scoped>\n",
       "    .dataframe tbody tr th:only-of-type {\n",
       "        vertical-align: middle;\n",
       "    }\n",
       "\n",
       "    .dataframe tbody tr th {\n",
       "        vertical-align: top;\n",
       "    }\n",
       "\n",
       "    .dataframe thead th {\n",
       "        text-align: right;\n",
       "    }\n",
       "</style>\n",
       "<table border=\"1\" class=\"dataframe\">\n",
       "  <thead>\n",
       "    <tr style=\"text-align: right;\">\n",
       "      <th></th>\n",
       "      <th>book_id</th>\n",
       "      <th>goodreads_book_id</th>\n",
       "      <th>best_book_id</th>\n",
       "      <th>work_id</th>\n",
       "      <th>books_count</th>\n",
       "      <th>isbn</th>\n",
       "      <th>isbn13</th>\n",
       "      <th>authors</th>\n",
       "      <th>original_publication_year</th>\n",
       "      <th>original_title</th>\n",
       "      <th>...</th>\n",
       "      <th>ratings_count</th>\n",
       "      <th>work_ratings_count</th>\n",
       "      <th>work_text_reviews_count</th>\n",
       "      <th>ratings_1</th>\n",
       "      <th>ratings_2</th>\n",
       "      <th>ratings_3</th>\n",
       "      <th>ratings_4</th>\n",
       "      <th>ratings_5</th>\n",
       "      <th>image_url</th>\n",
       "      <th>small_image_url</th>\n",
       "    </tr>\n",
       "  </thead>\n",
       "  <tbody>\n",
       "    <tr>\n",
       "      <th>0</th>\n",
       "      <td>1</td>\n",
       "      <td>2767052</td>\n",
       "      <td>2767052</td>\n",
       "      <td>2792775</td>\n",
       "      <td>272</td>\n",
       "      <td>439023483</td>\n",
       "      <td>9.780439e+12</td>\n",
       "      <td>Suzanne Collins</td>\n",
       "      <td>2008.0</td>\n",
       "      <td>The Hunger Games</td>\n",
       "      <td>...</td>\n",
       "      <td>4780653</td>\n",
       "      <td>4942365</td>\n",
       "      <td>155254</td>\n",
       "      <td>66715</td>\n",
       "      <td>127936</td>\n",
       "      <td>560092</td>\n",
       "      <td>1481305</td>\n",
       "      <td>2706317</td>\n",
       "      <td>https://images.gr-assets.com/books/1447303603m...</td>\n",
       "      <td>https://images.gr-assets.com/books/1447303603s...</td>\n",
       "    </tr>\n",
       "    <tr>\n",
       "      <th>1</th>\n",
       "      <td>2</td>\n",
       "      <td>3</td>\n",
       "      <td>3</td>\n",
       "      <td>4640799</td>\n",
       "      <td>491</td>\n",
       "      <td>439554934</td>\n",
       "      <td>9.780440e+12</td>\n",
       "      <td>J.K. Rowling, Mary GrandPré</td>\n",
       "      <td>1997.0</td>\n",
       "      <td>Harry Potter and the Philosopher's Stone</td>\n",
       "      <td>...</td>\n",
       "      <td>4602479</td>\n",
       "      <td>4800065</td>\n",
       "      <td>75867</td>\n",
       "      <td>75504</td>\n",
       "      <td>101676</td>\n",
       "      <td>455024</td>\n",
       "      <td>1156318</td>\n",
       "      <td>3011543</td>\n",
       "      <td>https://images.gr-assets.com/books/1474154022m...</td>\n",
       "      <td>https://images.gr-assets.com/books/1474154022s...</td>\n",
       "    </tr>\n",
       "    <tr>\n",
       "      <th>2</th>\n",
       "      <td>3</td>\n",
       "      <td>41865</td>\n",
       "      <td>41865</td>\n",
       "      <td>3212258</td>\n",
       "      <td>226</td>\n",
       "      <td>316015849</td>\n",
       "      <td>9.780316e+12</td>\n",
       "      <td>Stephenie Meyer</td>\n",
       "      <td>2005.0</td>\n",
       "      <td>Twilight</td>\n",
       "      <td>...</td>\n",
       "      <td>3866839</td>\n",
       "      <td>3916824</td>\n",
       "      <td>95009</td>\n",
       "      <td>456191</td>\n",
       "      <td>436802</td>\n",
       "      <td>793319</td>\n",
       "      <td>875073</td>\n",
       "      <td>1355439</td>\n",
       "      <td>https://images.gr-assets.com/books/1361039443m...</td>\n",
       "      <td>https://images.gr-assets.com/books/1361039443s...</td>\n",
       "    </tr>\n",
       "    <tr>\n",
       "      <th>3</th>\n",
       "      <td>4</td>\n",
       "      <td>2657</td>\n",
       "      <td>2657</td>\n",
       "      <td>3275794</td>\n",
       "      <td>487</td>\n",
       "      <td>61120081</td>\n",
       "      <td>9.780061e+12</td>\n",
       "      <td>Harper Lee</td>\n",
       "      <td>1960.0</td>\n",
       "      <td>To Kill a Mockingbird</td>\n",
       "      <td>...</td>\n",
       "      <td>3198671</td>\n",
       "      <td>3340896</td>\n",
       "      <td>72586</td>\n",
       "      <td>60427</td>\n",
       "      <td>117415</td>\n",
       "      <td>446835</td>\n",
       "      <td>1001952</td>\n",
       "      <td>1714267</td>\n",
       "      <td>https://images.gr-assets.com/books/1361975680m...</td>\n",
       "      <td>https://images.gr-assets.com/books/1361975680s...</td>\n",
       "    </tr>\n",
       "    <tr>\n",
       "      <th>4</th>\n",
       "      <td>5</td>\n",
       "      <td>4671</td>\n",
       "      <td>4671</td>\n",
       "      <td>245494</td>\n",
       "      <td>1356</td>\n",
       "      <td>743273567</td>\n",
       "      <td>9.780743e+12</td>\n",
       "      <td>F. Scott Fitzgerald</td>\n",
       "      <td>1925.0</td>\n",
       "      <td>The Great Gatsby</td>\n",
       "      <td>...</td>\n",
       "      <td>2683664</td>\n",
       "      <td>2773745</td>\n",
       "      <td>51992</td>\n",
       "      <td>86236</td>\n",
       "      <td>197621</td>\n",
       "      <td>606158</td>\n",
       "      <td>936012</td>\n",
       "      <td>947718</td>\n",
       "      <td>https://images.gr-assets.com/books/1490528560m...</td>\n",
       "      <td>https://images.gr-assets.com/books/1490528560s...</td>\n",
       "    </tr>\n",
       "  </tbody>\n",
       "</table>\n",
       "<p>5 rows × 23 columns</p>\n",
       "</div>"
      ],
      "text/plain": [
       "   book_id  goodreads_book_id  best_book_id  work_id  books_count       isbn  \\\n",
       "0        1            2767052       2767052  2792775          272  439023483   \n",
       "1        2                  3             3  4640799          491  439554934   \n",
       "2        3              41865         41865  3212258          226  316015849   \n",
       "3        4               2657          2657  3275794          487   61120081   \n",
       "4        5               4671          4671   245494         1356  743273567   \n",
       "\n",
       "         isbn13                      authors  original_publication_year  \\\n",
       "0  9.780439e+12              Suzanne Collins                     2008.0   \n",
       "1  9.780440e+12  J.K. Rowling, Mary GrandPré                     1997.0   \n",
       "2  9.780316e+12              Stephenie Meyer                     2005.0   \n",
       "3  9.780061e+12                   Harper Lee                     1960.0   \n",
       "4  9.780743e+12          F. Scott Fitzgerald                     1925.0   \n",
       "\n",
       "                             original_title  ... ratings_count  \\\n",
       "0                          The Hunger Games  ...       4780653   \n",
       "1  Harry Potter and the Philosopher's Stone  ...       4602479   \n",
       "2                                  Twilight  ...       3866839   \n",
       "3                     To Kill a Mockingbird  ...       3198671   \n",
       "4                          The Great Gatsby  ...       2683664   \n",
       "\n",
       "  work_ratings_count  work_text_reviews_count  ratings_1  ratings_2  \\\n",
       "0            4942365                   155254      66715     127936   \n",
       "1            4800065                    75867      75504     101676   \n",
       "2            3916824                    95009     456191     436802   \n",
       "3            3340896                    72586      60427     117415   \n",
       "4            2773745                    51992      86236     197621   \n",
       "\n",
       "   ratings_3  ratings_4  ratings_5  \\\n",
       "0     560092    1481305    2706317   \n",
       "1     455024    1156318    3011543   \n",
       "2     793319     875073    1355439   \n",
       "3     446835    1001952    1714267   \n",
       "4     606158     936012     947718   \n",
       "\n",
       "                                           image_url  \\\n",
       "0  https://images.gr-assets.com/books/1447303603m...   \n",
       "1  https://images.gr-assets.com/books/1474154022m...   \n",
       "2  https://images.gr-assets.com/books/1361039443m...   \n",
       "3  https://images.gr-assets.com/books/1361975680m...   \n",
       "4  https://images.gr-assets.com/books/1490528560m...   \n",
       "\n",
       "                                     small_image_url  \n",
       "0  https://images.gr-assets.com/books/1447303603s...  \n",
       "1  https://images.gr-assets.com/books/1474154022s...  \n",
       "2  https://images.gr-assets.com/books/1361039443s...  \n",
       "3  https://images.gr-assets.com/books/1361975680s...  \n",
       "4  https://images.gr-assets.com/books/1490528560s...  \n",
       "\n",
       "[5 rows x 23 columns]"
      ]
     },
     "execution_count": 4,
     "metadata": {},
     "output_type": "execute_result"
    }
   ],
   "source": [
    "df.head()"
   ]
  },
  {
   "cell_type": "code",
   "execution_count": 5,
   "id": "e4dff0d5",
   "metadata": {
    "execution": {
     "iopub.execute_input": "2023-02-26T09:21:12.380837Z",
     "iopub.status.busy": "2023-02-26T09:21:12.380173Z",
     "iopub.status.idle": "2023-02-26T09:21:12.385568Z",
     "shell.execute_reply": "2023-02-26T09:21:12.384324Z"
    },
    "papermill": {
     "duration": 0.018038,
     "end_time": "2023-02-26T09:21:12.390249",
     "exception": false,
     "start_time": "2023-02-26T09:21:12.372211",
     "status": "completed"
    },
    "tags": []
   },
   "outputs": [],
   "source": [
    "#Create a list of columns to keep that are important\n",
    "columns = ['title', 'authors']"
   ]
  },
  {
   "cell_type": "code",
   "execution_count": 6,
   "id": "6bcfb3f9",
   "metadata": {
    "execution": {
     "iopub.execute_input": "2023-02-26T09:21:12.404069Z",
     "iopub.status.busy": "2023-02-26T09:21:12.403628Z",
     "iopub.status.idle": "2023-02-26T09:21:12.532850Z",
     "shell.execute_reply": "2023-02-26T09:21:12.531630Z"
    },
    "papermill": {
     "duration": 0.139765,
     "end_time": "2023-02-26T09:21:12.536339",
     "exception": false,
     "start_time": "2023-02-26T09:21:12.396574",
     "status": "completed"
    },
    "tags": []
   },
   "outputs": [],
   "source": [
    "#concatenate the data from all two columns together \n",
    "df['combined_features'] = df[columns].apply(lambda row: '_'.join(row.values.astype(str)), axis=1)"
   ]
  },
  {
   "cell_type": "code",
   "execution_count": 7,
   "id": "6f94d34c",
   "metadata": {
    "execution": {
     "iopub.execute_input": "2023-02-26T09:21:12.551216Z",
     "iopub.status.busy": "2023-02-26T09:21:12.550806Z",
     "iopub.status.idle": "2023-02-26T09:21:12.568597Z",
     "shell.execute_reply": "2023-02-26T09:21:12.567210Z"
    },
    "papermill": {
     "duration": 0.029206,
     "end_time": "2023-02-26T09:21:12.571214",
     "exception": false,
     "start_time": "2023-02-26T09:21:12.542008",
     "status": "completed"
    },
    "tags": []
   },
   "outputs": [
    {
     "name": "stdout",
     "output_type": "stream",
     "text": [
      "<class 'pandas.core.frame.DataFrame'>\n",
      "RangeIndex: 10000 entries, 0 to 9999\n",
      "Data columns (total 24 columns):\n",
      " #   Column                     Non-Null Count  Dtype  \n",
      "---  ------                     --------------  -----  \n",
      " 0   book_id                    10000 non-null  int64  \n",
      " 1   goodreads_book_id          10000 non-null  int64  \n",
      " 2   best_book_id               10000 non-null  int64  \n",
      " 3   work_id                    10000 non-null  int64  \n",
      " 4   books_count                10000 non-null  int64  \n",
      " 5   isbn                       9300 non-null   object \n",
      " 6   isbn13                     9415 non-null   float64\n",
      " 7   authors                    10000 non-null  object \n",
      " 8   original_publication_year  9979 non-null   float64\n",
      " 9   original_title             9415 non-null   object \n",
      " 10  title                      10000 non-null  object \n",
      " 11  language_code              8916 non-null   object \n",
      " 12  average_rating             10000 non-null  float64\n",
      " 13  ratings_count              10000 non-null  int64  \n",
      " 14  work_ratings_count         10000 non-null  int64  \n",
      " 15  work_text_reviews_count    10000 non-null  int64  \n",
      " 16  ratings_1                  10000 non-null  int64  \n",
      " 17  ratings_2                  10000 non-null  int64  \n",
      " 18  ratings_3                  10000 non-null  int64  \n",
      " 19  ratings_4                  10000 non-null  int64  \n",
      " 20  ratings_5                  10000 non-null  int64  \n",
      " 21  image_url                  10000 non-null  object \n",
      " 22  small_image_url            10000 non-null  object \n",
      " 23  combined_features          10000 non-null  object \n",
      "dtypes: float64(3), int64(13), object(8)\n",
      "memory usage: 1.8+ MB\n"
     ]
    }
   ],
   "source": [
    "df.info()"
   ]
  },
  {
   "cell_type": "code",
   "execution_count": 8,
   "id": "f2709458",
   "metadata": {
    "execution": {
     "iopub.execute_input": "2023-02-26T09:21:12.584527Z",
     "iopub.status.busy": "2023-02-26T09:21:12.584114Z",
     "iopub.status.idle": "2023-02-26T09:21:13.631338Z",
     "shell.execute_reply": "2023-02-26T09:21:13.630132Z"
    },
    "papermill": {
     "duration": 1.057093,
     "end_time": "2023-02-26T09:21:13.634187",
     "exception": false,
     "start_time": "2023-02-26T09:21:12.577094",
     "status": "completed"
    },
    "tags": []
   },
   "outputs": [],
   "source": [
    "from sklearn.metrics.pairwise import cosine_similarity"
   ]
  },
  {
   "cell_type": "code",
   "execution_count": 9,
   "id": "88e9aa68",
   "metadata": {
    "execution": {
     "iopub.execute_input": "2023-02-26T09:21:13.647511Z",
     "iopub.status.busy": "2023-02-26T09:21:13.647108Z",
     "iopub.status.idle": "2023-02-26T09:21:13.664309Z",
     "shell.execute_reply": "2023-02-26T09:21:13.663111Z"
    },
    "papermill": {
     "duration": 0.027363,
     "end_time": "2023-02-26T09:21:13.667360",
     "exception": false,
     "start_time": "2023-02-26T09:21:13.639997",
     "status": "completed"
    },
    "tags": []
   },
   "outputs": [],
   "source": [
    "from sklearn.feature_extraction.text import CountVectorizer"
   ]
  },
  {
   "cell_type": "code",
   "execution_count": 10,
   "id": "7a3bd8e2",
   "metadata": {
    "execution": {
     "iopub.execute_input": "2023-02-26T09:21:13.680585Z",
     "iopub.status.busy": "2023-02-26T09:21:13.680168Z",
     "iopub.status.idle": "2023-02-26T09:21:13.831488Z",
     "shell.execute_reply": "2023-02-26T09:21:13.830207Z"
    },
    "papermill": {
     "duration": 0.161091,
     "end_time": "2023-02-26T09:21:13.834309",
     "exception": false,
     "start_time": "2023-02-26T09:21:13.673218",
     "status": "completed"
    },
    "tags": []
   },
   "outputs": [],
   "source": [
    "#convert text from the new column to a matrix of word counts\n",
    "cm = CountVectorizer().fit_transform(df['combined_features'])"
   ]
  },
  {
   "cell_type": "code",
   "execution_count": 11,
   "id": "6130e2e7",
   "metadata": {
    "execution": {
     "iopub.execute_input": "2023-02-26T09:21:13.847426Z",
     "iopub.status.busy": "2023-02-26T09:21:13.847005Z",
     "iopub.status.idle": "2023-02-26T09:21:15.591308Z",
     "shell.execute_reply": "2023-02-26T09:21:15.589600Z"
    },
    "papermill": {
     "duration": 1.754323,
     "end_time": "2023-02-26T09:21:15.594369",
     "exception": false,
     "start_time": "2023-02-26T09:21:13.840046",
     "status": "completed"
    },
    "tags": []
   },
   "outputs": [
    {
     "name": "stdout",
     "output_type": "stream",
     "text": [
      "[[1.         0.13363062 0.         ... 0.26726124 0.25928149 0.23904572]\n",
      " [0.13363062 1.         0.         ... 0.125      0.12126781 0.1118034 ]\n",
      " [0.         0.         1.         ... 0.         0.         0.        ]\n",
      " ...\n",
      " [0.26726124 0.125      0.         ... 1.         0.24253563 0.2236068 ]\n",
      " [0.25928149 0.12126781 0.         ... 0.24253563 1.         0.21693046]\n",
      " [0.23904572 0.1118034  0.         ... 0.2236068  0.21693046 1.        ]]\n"
     ]
    }
   ],
   "source": [
    "#cosine similarity function to get the similarity scores of each book. \n",
    "#A value of 1 means the current book at that row has a 100% similarity score to the book at that column.\n",
    "\n",
    "#Get the cosine similarity matrix from the count matrix\n",
    "# This will give us a nxn matrix of similarity scores for each book (row of data) to every other book \n",
    "#in the data set (the columns) including itself.\n",
    "\n",
    "cs = cosine_similarity(cm)\n",
    "#Print the similarity score\n",
    "print(cs)"
   ]
  },
  {
   "cell_type": "code",
   "execution_count": 12,
   "id": "df953e4e",
   "metadata": {
    "execution": {
     "iopub.execute_input": "2023-02-26T09:21:15.608689Z",
     "iopub.status.busy": "2023-02-26T09:21:15.608279Z",
     "iopub.status.idle": "2023-02-26T09:21:15.615756Z",
     "shell.execute_reply": "2023-02-26T09:21:15.614535Z"
    },
    "papermill": {
     "duration": 0.01748,
     "end_time": "2023-02-26T09:21:15.618043",
     "exception": false,
     "start_time": "2023-02-26T09:21:15.600563",
     "status": "completed"
    },
    "tags": []
   },
   "outputs": [
    {
     "data": {
      "text/plain": [
       "\"Harry Potter and the Sorcerer's Stone (Harry Potter, #1)\""
      ]
     },
     "execution_count": 12,
     "metadata": {},
     "output_type": "execute_result"
    }
   ],
   "source": [
    "#we can get the title of the book that the user likes.\n",
    "Title = df['title'][1]\n",
    "#Show the title\n",
    "Title\n"
   ]
  },
  {
   "cell_type": "code",
   "execution_count": 13,
   "id": "d7238e1d",
   "metadata": {
    "execution": {
     "iopub.execute_input": "2023-02-26T09:21:15.631870Z",
     "iopub.status.busy": "2023-02-26T09:21:15.631418Z",
     "iopub.status.idle": "2023-02-26T09:21:15.642324Z",
     "shell.execute_reply": "2023-02-26T09:21:15.641451Z"
    },
    "papermill": {
     "duration": 0.020495,
     "end_time": "2023-02-26T09:21:15.644471",
     "exception": false,
     "start_time": "2023-02-26T09:21:15.623976",
     "status": "completed"
    },
    "tags": []
   },
   "outputs": [
    {
     "data": {
      "text/plain": [
       "2"
      ]
     },
     "execution_count": 13,
     "metadata": {},
     "output_type": "execute_result"
    }
   ],
   "source": [
    "#find the book_id the the user likes\n",
    "book_id = df[df.title == Title]['book_id'].values[0]\n",
    "#show the books_id\n",
    "book_id"
   ]
  },
  {
   "cell_type": "code",
   "execution_count": 14,
   "id": "f9cefb82",
   "metadata": {
    "execution": {
     "iopub.execute_input": "2023-02-26T09:21:15.658931Z",
     "iopub.status.busy": "2023-02-26T09:21:15.657913Z",
     "iopub.status.idle": "2023-02-26T09:21:15.664621Z",
     "shell.execute_reply": "2023-02-26T09:21:15.663765Z"
    },
    "papermill": {
     "duration": 0.016309,
     "end_time": "2023-02-26T09:21:15.666774",
     "exception": false,
     "start_time": "2023-02-26T09:21:15.650465",
     "status": "completed"
    },
    "tags": []
   },
   "outputs": [],
   "source": [
    "#create list of book_ids and similarity scores\n",
    "scores = list(enumerate (cs[book_id]))\n",
    "#print (scores)"
   ]
  },
  {
   "cell_type": "code",
   "execution_count": 15,
   "id": "d981990d",
   "metadata": {
    "execution": {
     "iopub.execute_input": "2023-02-26T09:21:15.681362Z",
     "iopub.status.busy": "2023-02-26T09:21:15.680759Z",
     "iopub.status.idle": "2023-02-26T09:21:15.687236Z",
     "shell.execute_reply": "2023-02-26T09:21:15.686415Z"
    },
    "papermill": {
     "duration": 0.016571,
     "end_time": "2023-02-26T09:21:15.689422",
     "exception": false,
     "start_time": "2023-02-26T09:21:15.672851",
     "status": "completed"
    },
    "tags": []
   },
   "outputs": [],
   "source": [
    "#Sort the list of similar books in descending order\n",
    "sorted_scores = sorted(scores, key= lambda x:x[1], reverse= True)\n",
    "sorted_scores = sorted_scores[1:]\n",
    "#Show the sorted scores\n",
    "#sorted_scores"
   ]
  },
  {
   "cell_type": "code",
   "execution_count": 16,
   "id": "bf209cd8",
   "metadata": {
    "execution": {
     "iopub.execute_input": "2023-02-26T09:21:15.703790Z",
     "iopub.status.busy": "2023-02-26T09:21:15.703101Z",
     "iopub.status.idle": "2023-02-26T09:21:15.713310Z",
     "shell.execute_reply": "2023-02-26T09:21:15.712376Z"
    },
    "papermill": {
     "duration": 0.021459,
     "end_time": "2023-02-26T09:21:15.716955",
     "exception": false,
     "start_time": "2023-02-26T09:21:15.695496",
     "status": "completed"
    },
    "tags": []
   },
   "outputs": [
    {
     "name": "stdout",
     "output_type": "stream",
     "text": [
      "suggestionsHarry Potter and the Sorcerer's Stone (Harry Potter, #1) are:\n",
      "\n",
      "1 How to Cook Everything: Simple Recipes for Great Food\n",
      "2 City of Bones (The Mortal Instruments, #1)\n",
      "3 A Voice in the Wind (Mark of the Lion, #1)\n",
      "4 Fahrenheit 451\n",
      "5 Brave New World\n",
      "6 The Chamber\n"
     ]
    }
   ],
   "source": [
    "#create a loop tp print first 5 books from the sorted list\n",
    "j = 0\n",
    "print ('suggestions'+Title+' are:\\n')\n",
    "\n",
    "for item in sorted_scores:\n",
    "    book_title = df[df.book_id == item [0]] ['title'].values[0]\n",
    "    print (j+1, book_title)\n",
    "    j=j+1\n",
    "    \n",
    "    if j >= 6:\n",
    "        break\n"
   ]
  }
 ],
 "metadata": {
  "kernelspec": {
   "display_name": "Python 3",
   "language": "python",
   "name": "python3"
  },
  "language_info": {
   "codemirror_mode": {
    "name": "ipython",
    "version": 3
   },
   "file_extension": ".py",
   "mimetype": "text/x-python",
   "name": "python",
   "nbconvert_exporter": "python",
   "pygments_lexer": "ipython3",
   "version": "3.7.12"
  },
  "papermill": {
   "default_parameters": {},
   "duration": 14.13165,
   "end_time": "2023-02-26T09:21:16.546764",
   "environment_variables": {},
   "exception": null,
   "input_path": "__notebook__.ipynb",
   "output_path": "__notebook__.ipynb",
   "parameters": {},
   "start_time": "2023-02-26T09:21:02.415114",
   "version": "2.3.4"
  }
 },
 "nbformat": 4,
 "nbformat_minor": 5
}
